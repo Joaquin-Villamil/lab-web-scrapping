{
 "cells": [
  {
   "cell_type": "markdown",
   "metadata": {},
   "source": [
    "# Web Scraping Lab\n",
    "\n",
    "You will find in this notebook some scrapy exercises to practise your scraping skills.\n",
    "\n",
    "**Tips:**\n",
    "\n",
    "- Check the response status code for each request to ensure you have obtained the intended contennt.\n",
    "- Print the response text in each request to understand the kind of info you are getting and its format.\n",
    "- Check for patterns in the response text to extract the data/info requested in each question.\n",
    "- Visit each url and take a look at its source through Chrome DevTools. You'll need to identify the html tags, special class names etc. used for the html content you are expected to extract."
   ]
  },
  {
   "cell_type": "markdown",
   "metadata": {},
   "source": [
    "- [Requests library](http://docs.python-requests.org/en/master/#the-user-guide) documentation \n",
    "- [Beautiful Soup Doc](https://www.crummy.com/software/BeautifulSoup/bs4/doc/)\n",
    "- [Urllib](https://docs.python.org/3/library/urllib.html#module-urllib)\n",
    "- [re lib](https://docs.python.org/3/library/re.html)\n",
    "- [lxml lib](https://lxml.de/)\n",
    "- [Scrapy](https://scrapy.org/)\n",
    "- [List of HTTP status codes](https://en.wikipedia.org/wiki/List_of_HTTP_status_codes)\n",
    "- [HTML basics](http://www.simplehtmlguide.com/cheatsheet.php)\n",
    "- [CSS basics](https://www.cssbasics.com/#page_start)"
   ]
  },
  {
   "cell_type": "markdown",
   "metadata": {},
   "source": [
    "#### Below are the libraries and modules you may need. `requests`,  `BeautifulSoup` and `pandas` are imported for you. If you prefer to use additional libraries feel free to uncomment them."
   ]
  },
  {
   "cell_type": "code",
   "execution_count": 6,
   "metadata": {},
   "outputs": [],
   "source": [
    "import requests\n",
    "from bs4 import BeautifulSoup\n",
    "import pandas as pd\n",
    "from pprint import pprint\n",
    "from lxml import html\n",
    "from lxml.html import fromstring\n",
    "import urllib.request\n",
    "from urllib.request import urlopen\n",
    "import random\n",
    "import re\n",
    "# import scrapy"
   ]
  },
  {
   "cell_type": "markdown",
   "metadata": {},
   "source": [
    "#### Download, parse (using BeautifulSoup), and print the content from the Trending Developers page from GitHub:"
   ]
  },
  {
   "cell_type": "code",
   "execution_count": 7,
   "metadata": {},
   "outputs": [],
   "source": [
    "# This is the url you will scrape in this exercise\n",
    "url = 'https://github.com/trending/developers'"
   ]
  },
  {
   "cell_type": "code",
   "execution_count": 19,
   "metadata": {},
   "outputs": [
    {
     "data": {
      "text/plain": [
       "'Trending  developers on GitHub today · GitHub'"
      ]
     },
     "execution_count": 19,
     "metadata": {},
     "output_type": "execute_result"
    }
   ],
   "source": [
    "html = requests.get(url).content\n",
    "soup=BeautifulSoup(html)\n",
    "soup.title.text"
   ]
  },
  {
   "cell_type": "markdown",
   "metadata": {},
   "source": [
    "#### Display the names of the trending developers retrieved in the previous step.\n",
    "\n",
    "Your output should be a Python list of developer names. Each name should not contain any html tag.\n",
    "\n",
    "**Instructions:**\n",
    "\n",
    "1. Find out the html tag and class names used for the developer names. You can achieve this using Chrome DevTools.\n",
    "\n",
    "1. Use BeautifulSoup to extract all the html elements that contain the developer names.\n",
    "\n",
    "1. Use string manipulation techniques to replace whitespaces and linebreaks (i.e. `\\n`) in the *text* of each html element. Use a list to store the clean names.\n",
    "\n",
    "1. Print the list of names.\n",
    "\n",
    "Your output should look like below:\n",
    "\n",
    "```\n",
    "['trimstray (@trimstray)',\n",
    " 'joewalnes (JoeWalnes)',\n",
    " 'charlax (Charles-AxelDein)',\n",
    " 'ForrestKnight (ForrestKnight)',\n",
    " 'revery-ui (revery-ui)',\n",
    " 'alibaba (Alibaba)',\n",
    " 'Microsoft (Microsoft)',\n",
    " 'github (GitHub)',\n",
    " 'facebook (Facebook)',\n",
    " 'boazsegev (Bo)',\n",
    " 'google (Google)',\n",
    " 'cloudfetch',\n",
    " 'sindresorhus (SindreSorhus)',\n",
    " 'tensorflow',\n",
    " 'apache (TheApacheSoftwareFoundation)',\n",
    " 'DevonCrawford (DevonCrawford)',\n",
    " 'ARMmbed (ArmMbed)',\n",
    " 'vuejs (vuejs)',\n",
    " 'fastai (fast.ai)',\n",
    " 'QiShaoXuan (Qi)',\n",
    " 'joelparkerhenderson (JoelParkerHenderson)',\n",
    " 'torvalds (LinusTorvalds)',\n",
    " 'CyC2018',\n",
    " 'komeiji-satori (神楽坂覚々)',\n",
    " 'script-8']\n",
    " ```"
   ]
  },
  {
   "cell_type": "code",
   "execution_count": 160,
   "metadata": {},
   "outputs": [
    {
     "name": "stdout",
     "output_type": "stream",
     "text": [
      "['Tim Paine', 'Kyle Mathews', 'XhmikosR', 'Forbes Lindesay', 'oznu', 'Jethro Kuan', 'Hang Zhang', 'Chris Banes', 'Whyrusleeping', 'Florian Märkl', 'Hiroshi Kimura', 'Bartlomiej Plotka', 'William Candillon', 'Sascha Grunert', 'Michiel Borkent', 'Said Tahsin Dane', 'Richard Schneeman', 'Ingo Bürk', 'Maartje Eyskens', 'Stanislas', 'Harsh Shandilya', 'Jason Miller', 'Yu Che', 'Marten Seemann', 'Cristiano Calcagno']\n",
      "        Top Developers\n",
      "1            Tim Paine\n",
      "2         Kyle Mathews\n",
      "3             XhmikosR\n",
      "4      Forbes Lindesay\n",
      "5                 oznu\n",
      "6          Jethro Kuan\n",
      "7           Hang Zhang\n",
      "8          Chris Banes\n",
      "9        Whyrusleeping\n",
      "10       Florian Märkl\n",
      "11      Hiroshi Kimura\n",
      "12   Bartlomiej Plotka\n",
      "13   William Candillon\n",
      "14      Sascha Grunert\n",
      "15     Michiel Borkent\n",
      "16    Said Tahsin Dane\n",
      "17   Richard Schneeman\n",
      "18           Ingo Bürk\n",
      "19     Maartje Eyskens\n",
      "20           Stanislas\n",
      "21     Harsh Shandilya\n",
      "22        Jason Miller\n",
      "23              Yu Che\n",
      "24      Marten Seemann\n",
      "25  Cristiano Calcagno\n"
     ]
    }
   ],
   "source": [
    "lista=soup.find_all('h1',{'class':'h3 lh-condensed'})\n",
    "cont = len(lista)\n",
    "print(rows)\n",
    "rows = [row.text.replace('\\n\\n', '\\n').strip() for row in lista]\n",
    "data = rows[0:]\n",
    "df = pd.DataFrame(data,columns={'Top Developers'})\n",
    "df.index +=1\n",
    "print(df)"
   ]
  },
  {
   "cell_type": "markdown",
   "metadata": {},
   "source": [
    "#### Display the trending Python repositories in GitHub\n",
    "\n",
    "The steps to solve this problem is similar to the previous one except that you need to find out the repository names instead of developer names."
   ]
  },
  {
   "cell_type": "code",
   "execution_count": 120,
   "metadata": {},
   "outputs": [],
   "source": [
    "# This is the url you will scrape in this exercise\n",
    "url2 = 'https://github.com/trending/python?since=daily'"
   ]
  },
  {
   "cell_type": "code",
   "execution_count": 195,
   "metadata": {},
   "outputs": [
    {
     "name": "stdout",
     "output_type": "stream",
     "text": [
      "['podgorskiy /  ALAE', 'timgrossmann /  InstaPy', '3b1b /  manim', 'TheAlgorithms /  Python', 'donnemartin /  system-design-primer', 'TachibanaYoshino /  AnimeGAN', 'alexgand /  springer_free_books', 'soimort /  you-get', 'scikit-learn /  scikit-learn', 'freqtrade /  freqtrade', 'NVlabs /  stylegan2', 'programthink /  zhao', 'volatilityfoundation /  volatility', 'Manisso /  fsociety', 'PyTorchLightning /  pytorch-lightning', 'OctoPrint /  OctoPrint', 'iperov /  DeepFaceLab', 'matplotlib /  mplfinance', 'NVIDIA /  apex', 'Alic-yuan /  nlp-beginner-finish', 'commaai /  comma10k', 'ycm-core /  YouCompleteMe', 'apprenticeharper /  DeDRM_tools', 'google-research /  bert', 'neha-chawla /  RandomPython']\n",
      "                                Top Repos\n",
      "1                      podgorskiy /  ALAE\n",
      "2                 timgrossmann /  InstaPy\n",
      "3                           3b1b /  manim\n",
      "4                 TheAlgorithms /  Python\n",
      "5     donnemartin /  system-design-primer\n",
      "6            TachibanaYoshino /  AnimeGAN\n",
      "7         alexgand /  springer_free_books\n",
      "8                      soimort /  you-get\n",
      "9            scikit-learn /  scikit-learn\n",
      "10                 freqtrade /  freqtrade\n",
      "11                    NVlabs /  stylegan2\n",
      "12                   programthink /  zhao\n",
      "13     volatilityfoundation /  volatility\n",
      "14                    Manisso /  fsociety\n",
      "15  PyTorchLightning /  pytorch-lightning\n",
      "16                 OctoPrint /  OctoPrint\n",
      "17                  iperov /  DeepFaceLab\n",
      "18               matplotlib /  mplfinance\n",
      "19                         NVIDIA /  apex\n",
      "20       Alic-yuan /  nlp-beginner-finish\n",
      "21                    commaai /  comma10k\n",
      "22              ycm-core /  YouCompleteMe\n",
      "23        apprenticeharper /  DeDRM_tools\n",
      "24                google-research /  bert\n",
      "25            neha-chawla /  RandomPython\n"
     ]
    }
   ],
   "source": [
    "#your code h3 lh-condensed\n",
    "html2 = requests.get(url2).content\n",
    "soup2=BeautifulSoup(html2)\n",
    "soup2.title.text\n",
    "listarep=soup2.find_all('h1',{'class':'h3 lh-condensed'})\n",
    "rows2 = [row2.text.replace('\\n\\n', '\\n').replace('\\n\\n', '\\n').replace('\\n    ', '').strip() for row2 in listarep]\n",
    "print(rows2)\n",
    "data2 = rows2[0:]\n",
    "dfrep = pd.DataFrame(data2,columns={'Top Repos'})\n",
    "dfrep.index +=1\n",
    "print(dfrep)\n",
    "#print(dfrep.iloc[2,0])"
   ]
  },
  {
   "cell_type": "markdown",
   "metadata": {},
   "source": [
    "#### Display all the image links from Walt Disney wikipedia page"
   ]
  },
  {
   "cell_type": "code",
   "execution_count": 164,
   "metadata": {},
   "outputs": [],
   "source": [
    "# This is the url you will scrape in this exercise\n",
    "url3 = 'https://en.wikipedia.org/wiki/Walt_Disney'"
   ]
  },
  {
   "cell_type": "code",
   "execution_count": 214,
   "metadata": {},
   "outputs": [
    {
     "name": "stdout",
     "output_type": "stream",
     "text": [
      "                                          Images Link\n",
      "1   //upload.wikimedia.org/wikipedia/commons/thumb...\n",
      "2   //upload.wikimedia.org/wikipedia/commons/thumb...\n",
      "3   //upload.wikimedia.org/wikipedia/commons/thumb...\n",
      "4   //upload.wikimedia.org/wikipedia/commons/thumb...\n",
      "5   //upload.wikimedia.org/wikipedia/en/thumb/4/4e...\n",
      "6   //upload.wikimedia.org/wikipedia/commons/thumb...\n",
      "7   //upload.wikimedia.org/wikipedia/commons/thumb...\n",
      "8   //upload.wikimedia.org/wikipedia/commons/thumb...\n",
      "9   //upload.wikimedia.org/wikipedia/commons/thumb...\n",
      "10  //upload.wikimedia.org/wikipedia/commons/thumb...\n",
      "11  //upload.wikimedia.org/wikipedia/commons/thumb...\n",
      "12  //upload.wikimedia.org/wikipedia/commons/thumb...\n",
      "13  //upload.wikimedia.org/wikipedia/commons/thumb...\n",
      "14  //upload.wikimedia.org/wikipedia/commons/thumb...\n"
     ]
    }
   ],
   "source": [
    "html3 = requests.get(url3).content\n",
    "soup3=BeautifulSoup(html3)\n",
    "listaw=soup3.find_all('img',{'src':re.compile('.jpg')})\n",
    "rows3 = [row3['src'] for row3 in listaw]\n",
    "data3 = rows3[0:]\n",
    "dfw = pd.DataFrame(data3,columns={'Images Link'})\n",
    "dfw.index +=1\n",
    "print(dfw)\n",
    "#print(dfrep.iloc[2,0])"
   ]
  },
  {
   "cell_type": "markdown",
   "metadata": {},
   "source": [
    "#### Retrieve an arbitary Wikipedia page of \"Python\" and create a list of links on that page"
   ]
  },
  {
   "cell_type": "code",
   "execution_count": 217,
   "metadata": {},
   "outputs": [],
   "source": [
    "# This is the url you will scrape in this exercise\n",
    "url4 ='https://en.wikipedia.org/wiki/Python' "
   ]
  },
  {
   "cell_type": "code",
   "execution_count": 340,
   "metadata": {},
   "outputs": [
    {
     "name": "stdout",
     "output_type": "stream",
     "text": [
      "                                       Links\n",
      "1                        https://github.com/\n",
      "2                        /join?source=header\n",
      "3                                  /features\n",
      "4                     /features/code-review/\n",
      "5              /features/project-management/\n",
      "..                                       ...\n",
      "766           https://www.youtube.com/github\n",
      "767  https://www.linkedin.com/company/github\n",
      "768                https://github.com/github\n",
      "769                              /site/terms\n",
      "770                            /site/privacy\n",
      "\n",
      "[770 rows x 1 columns]\n"
     ]
    }
   ],
   "source": [
    "html4 = requests.get(url4).content\n",
    "soup4=BeautifulSoup(html4)\n",
    "lista4=soup.find_all('a',{'href':re.compile('/')})\n",
    "#print(lista4)\n",
    "rows4 = [row4['href'] for row4 in lista4]\n",
    "#print(rows4)\n",
    "data4 = rows4[0:]\n",
    "df4 = pd.DataFrame(data4,columns={'Links'})\n",
    "df4.index +=1\n",
    "print(df4)\n",
    "#print(dfrep.iloc[2,0])"
   ]
  },
  {
   "cell_type": "markdown",
   "metadata": {},
   "source": [
    "#### Number of Titles that have changed in the United States Code since its last release point "
   ]
  },
  {
   "cell_type": "code",
   "execution_count": 237,
   "metadata": {},
   "outputs": [],
   "source": [
    "# This is the url you will scrape in this exercise\n",
    "urlUSA = 'http://uscode.house.gov/download/download.shtml'"
   ]
  },
  {
   "cell_type": "code",
   "execution_count": 265,
   "metadata": {},
   "outputs": [
    {
     "name": "stdout",
     "output_type": "stream",
     "text": [
      "                             Links\n",
      "1        Title 10 - Armed Forces ٭\n",
      "2  Title 38 - Veterans' Benefits ٭\n"
     ]
    }
   ],
   "source": [
    "htmlUSA = requests.get(urlUSA).content\n",
    "soupUSA=BeautifulSoup(htmlUSA)\n",
    "listaUSA=soupUSA.find_all('div',{'class':'usctitlechanged'})\n",
    "#print(lista4)\n",
    "rowsUSA = [rowUSA.text.replace('\\n\\n', '\\n').strip().split('\\n') for rowUSA in listaUSA]\n",
    "#print(rows4)\n",
    "dataUSA = rowsUSA[0:]\n",
    "dfUSA = pd.DataFrame(dataUSA,columns={'Links'})\n",
    "dfUSA.index +=1\n",
    "print(dfUSA)\n",
    "#print(dfUSA.iloc[0,0])"
   ]
  },
  {
   "cell_type": "markdown",
   "metadata": {},
   "source": [
    "#### A Python list with the top ten FBI's Most Wanted names "
   ]
  },
  {
   "cell_type": "code",
   "execution_count": 267,
   "metadata": {},
   "outputs": [],
   "source": [
    "# This is the url you will scrape in this exercise\n",
    "url5 = 'https://www.fbi.gov/wanted/topten'"
   ]
  },
  {
   "cell_type": "code",
   "execution_count": 430,
   "metadata": {},
   "outputs": [
    {
     "name": "stdout",
     "output_type": "stream",
     "text": [
      "                             Links\n",
      "1       ALEJANDRO ROSALES CASTILLO\n",
      "2                  ARNOLDO JIMENEZ\n",
      "3                JASON DEREK BROWN\n",
      "4                 YASER ABDEL SAID\n",
      "5                    ALEXIS FLORES\n",
      "6                    EUGENE PALMER\n",
      "7        SANTIAGO VILLALBA MEDEROS\n",
      "8             RAFAEL CARO-QUINTERO\n",
      "9            ROBERT WILLIAM FISHER\n",
      "10  BHADRESHKUMAR CHETANBHAI PATEL\n"
     ]
    }
   ],
   "source": [
    "html5 = requests.get(url5).content\n",
    "soup5=BeautifulSoup(html5)\n",
    "lista5=soup5.find_all('h3',{'class':'title'})\n",
    "#print(lista5)\n",
    "rows5 = [row5.text.replace('\\n\\n', '\\n').strip().split('\\n') for row5 in lista5]\n",
    "#print(rows4)\n",
    "data5 = rows5[0:]\n",
    "df5 = pd.DataFrame(data5,columns={'Links'})\n",
    "df5.index +=1\n",
    "print(df5)\n",
    "#print(dfUSA.iloc[0,0])"
   ]
  },
  {
   "cell_type": "markdown",
   "metadata": {},
   "source": [
    "####  20 latest earthquakes info (date, time, latitude, longitude and region name) by the EMSC as a pandas dataframe"
   ]
  },
  {
   "cell_type": "code",
   "execution_count": 270,
   "metadata": {},
   "outputs": [],
   "source": [
    "# This is the url you will scrape in this exercise\n",
    "url6 = 'https://www.emsc-csem.org/Earthquake/'"
   ]
  },
  {
   "cell_type": "code",
   "execution_count": 402,
   "metadata": {},
   "outputs": [
    {
     "name": "stdout",
     "output_type": "stream",
     "text": [
      "            Date        Time Latitude Longitude  \\\n",
      "1   [2020-05-04]  [03:12:24]    44.21    115.09   \n",
      "2   [2020-05-04]  [03:03:13]    30.97    141.82   \n",
      "3   [2020-05-04]  [02:36:59]    27.90     71.31   \n",
      "4   [2020-05-04]  [02:26:58]    20.50     69.19   \n",
      "5   [2020-05-04]  [02:14:01]    17.26     94.92   \n",
      "6   [2020-05-04]  [02:02:23]    17.93     66.73   \n",
      "7   [2020-05-04]  [01:54:53]     3.23    140.09   \n",
      "8   [2020-05-04]  [01:48:08]     2.69    129.52   \n",
      "9   [2020-05-04]  [01:43:15]    58.44    136.98   \n",
      "10  [2020-05-04]  [01:18:21]     3.48    101.99   \n",
      "11  [2020-05-04]  [01:11:19]    35.91    117.70   \n",
      "12  [2020-05-04]  [01:02:13]    34.01     25.55   \n",
      "13  [2020-05-04]  [00:22:02]    18.57     65.68   \n",
      "14  [2020-05-04]  [00:05:31]    17.94     66.63   \n",
      "15  [2020-05-04]  [00:01:35]    37.84     29.65   \n",
      "16  [2020-05-03]  [23:51:06]    37.82     23.18   \n",
      "17  [2020-05-03]  [23:39:21]    27.71    120.70   \n",
      "18  [2020-05-03]  [23:31:19]    38.54     39.58   \n",
      "19  [2020-05-03]  [23:23:57]    19.23     70.22   \n",
      "20  [2020-05-03]  [23:10:26]    37.46     36.03   \n",
      "21  [2020-05-03]  [23:00:26]     3.22    140.09   \n",
      "22  [2020-05-03]  [22:53:44]     3.24    140.09   \n",
      "23  [2020-05-03]  [22:48:46]    36.88     97.46   \n",
      "24  [2020-05-03]  [22:22:38]    46.04     11.82   \n",
      "25  [2020-05-03]  [22:05:22]    40.16     42.03   \n",
      "26  [2020-05-03]  [22:00:45]    37.48     35.98   \n",
      "27  [2020-05-03]  [22:00:38]    41.06     46.42   \n",
      "28  [2020-05-03]  [21:55:53]    46.04     15.90   \n",
      "29  [2020-05-03]  [21:53:46]    15.14     97.26   \n",
      "30  [2020-05-03]  [21:47:49]    33.25     71.99   \n",
      "31  [2020-05-03]  [21:45:39]    34.26    118.60   \n",
      "32  [2020-05-03]  [21:41:44]    33.20    115.58   \n",
      "33  [2020-05-03]  [21:20:05]    37.06    177.43   \n",
      "34  [2020-05-03]  [21:18:56]    27.95     71.02   \n",
      "35  [2020-05-03]  [21:17:55]    35.24     71.11   \n",
      "36  [2020-05-03]  [20:36:12]    39.61     42.80   \n",
      "37  [2020-05-03]  [20:26:19]    22.73     69.60   \n",
      "38  [2020-05-03]  [20:14:18]    37.46     35.97   \n",
      "39  [2020-05-03]  [20:08:47]    15.38     94.65   \n",
      "40  [2020-05-03]  [20:04:01]    41.06     46.43   \n",
      "41  [2020-05-03]  [20:03:33]    19.23    155.42   \n",
      "42  [2020-05-03]  [20:00:18]    17.91     66.71   \n",
      "43  [2020-05-03]  [19:56:47]    47.25      9.56   \n",
      "44  [2020-05-03]  [19:51:33]    16.55     98.44   \n",
      "45  [2020-05-03]  [19:36:55]     2.81     36.10   \n",
      "46  [2020-05-03]  [19:27:46]    17.90     98.72   \n",
      "47  [2020-05-03]  [19:20:32]    39.30     38.46   \n",
      "48  [2020-05-03]  [19:17:33]    33.93    117.10   \n",
      "49  [2020-05-03]  [19:05:43]    18.15    103.28   \n",
      "50  [2020-05-03]  [19:04:16]    17.75    178.69   \n",
      "\n",
      "                              Region  \n",
      "1                     SOUTHERN IDAHO  \n",
      "2          IZU ISLANDS, JAPAN REGION  \n",
      "3            OFFSHORE ATACAMA, CHILE  \n",
      "4                    TARAPACA, CHILE  \n",
      "5                   VERACRUZ, MEXICO  \n",
      "6                 PUERTO RICO REGION  \n",
      "7                   PAPUA, INDONESIA  \n",
      "8                   SERAM, INDONESIA  \n",
      "9                SOUTHEASTERN ALASKA  \n",
      "10       SOUTHERN SUMATRA, INDONESIA  \n",
      "11                CENTRAL CALIFORNIA  \n",
      "12                     CRETE, GREECE  \n",
      "13                PUERTO RICO REGION  \n",
      "14                PUERTO RICO REGION  \n",
      "15                    WESTERN TURKEY  \n",
      "16                   SOUTHERN GREECE  \n",
      "17                 WESTERN AUSTRALIA  \n",
      "18                    EASTERN TURKEY  \n",
      "19                   TARAPACA, CHILE  \n",
      "20                    CENTRAL TURKEY  \n",
      "21                  PAPUA, INDONESIA  \n",
      "22                  PAPUA, INDONESIA  \n",
      "23                          OKLAHOMA  \n",
      "24                    NORTHERN ITALY  \n",
      "25                    EASTERN TURKEY  \n",
      "26                    CENTRAL TURKEY  \n",
      "27                        AZERBAIJAN  \n",
      "28                           CROATIA  \n",
      "29           OFFSHORE OAXACA, MEXICO  \n",
      "30        OFFSHORE VALPARAISO, CHILE  \n",
      "31  GREATER LOS ANGELES AREA, CALIF.  \n",
      "32               SOUTHERN CALIFORNIA  \n",
      "33   OFF E. COAST OF N. ISLAND, N.Z.  \n",
      "34                    ATACAMA, CHILE  \n",
      "35                      MAULE, CHILE  \n",
      "36                    EASTERN TURKEY  \n",
      "37                ANTOFAGASTA, CHILE  \n",
      "38                    CENTRAL TURKEY  \n",
      "39           OFFSHORE OAXACA, MEXICO  \n",
      "40                        AZERBAIJAN  \n",
      "41          ISLAND OF HAWAII, HAWAII  \n",
      "42                PUERTO RICO REGION  \n",
      "43                           AUSTRIA  \n",
      "44                  GUERRERO, MEXICO  \n",
      "45         LAKE RUDOLF REGION, KENYA  \n",
      "46                  GUERRERO, MEXICO  \n",
      "47                    EASTERN TURKEY  \n",
      "48  GREATER LOS ANGELES AREA, CALIF.  \n",
      "49        OFFSHORE MICHOACAN, MEXICO  \n",
      "50                       FIJI REGION  \n"
     ]
    }
   ],
   "source": [
    "html6 = requests.get(url6).content\n",
    "soup6=BeautifulSoup(html6)\n",
    "#lista6=soup6.find_all('tr',{'class':['ligne1 normal','ligne2 normal']})\n",
    "lista61=soup6.find_all('td',{'class':'tabev1'})\n",
    "lista66=soup6.find_all('td',{'class':'tabev6'})\n",
    "lista6r=soup6.find_all('td',{'class':'tb_region'})\n",
    "\n",
    "rows61 = [row61.text.replace('\\xa0','') for row61 in lista61]\n",
    "rows6r = [row6r.text.replace('\\xa0','') for row6r in lista6r]\n",
    "rows66 = [row66.text.replace('earthquake', '').replace('\\xa0','') for row66 in lista66]\n",
    "dat = [re.findall('[0-9]+-[0-9]+-[0-9]{1,2}',r6) for r6 in rows66]\n",
    "tim = [re.findall('[0-9]{1,2}:[0-9]+:[0-9]{1,4}',r6) for r6 in rows66]\n",
    "\n",
    "b=0\n",
    "rows6lat = []\n",
    "rows6lon = []\n",
    "for a in rows61:\n",
    "    if b%2 == 0:\n",
    "        rows6lat.append(a)\n",
    "    if b%2 != 0:\n",
    "        rows6lon.append(a)\n",
    "    b+=1 \n",
    "deq = {'Date':dat,'Time':tim,'Latitude':rows6lat,'Longitude':rows6lon,'Region':rows6r}\n",
    "dfeq = pd.DataFrame(deq,)\n",
    "dfeq.index +=1\n",
    "print(dfeq)\n"
   ]
  },
  {
   "cell_type": "markdown",
   "metadata": {},
   "source": [
    "#### Display the date, days, title, city, country of next 25 hackathon events as a Pandas dataframe table"
   ]
  },
  {
   "cell_type": "code",
   "execution_count": 431,
   "metadata": {},
   "outputs": [],
   "source": [
    "# This is the url you will scrape in this exercise\n",
    "url7 ='https://mlh.io/seasons/na-2020/events'"
   ]
  },
  {
   "cell_type": "code",
   "execution_count": 475,
   "metadata": {},
   "outputs": [
    {
     "name": "stdout",
     "output_type": "stream",
     "text": [
      "       Event Name             Date                   Place\n",
      "1     Hacklarious   May 9th - 10th  [Everywhere,Worldwide]\n",
      "2        RU Hacks  May 15th - 17th            [Toronto,ON]\n",
      "3  Hack the Chain  May 16th - 17th  [Everywhere,Worldwide]\n",
      "4    hths.hacks()  May 16th - 17th           [Lincroft,NJ]\n"
     ]
    }
   ],
   "source": [
    "html7 = requests.get(url7).content\n",
    "soup7=BeautifulSoup(html7)\n",
    "#lista6=soup6.find_all('tr',{'class':['ligne1 normal','ligne2 normal']})\n",
    "listan=soup7.find_all('h3',{'class':'event-name'})\n",
    "listad=soup7.find_all('p',{'class':'event-date'})\n",
    "listal=soup7.find_all('div',{'class':'event-location'})\n",
    "rowsn = [rown.text for rown in listan]\n",
    "rowsd = [rowd.text for rowd in listad]\n",
    "rowsl = [rowl.text.replace('\\n          ','').split() for rowl in listal]\n",
    "\n",
    "dhack = {'Event Name':rowsn,'Date':rowsd,'Place':rowsl}\n",
    "\n",
    "df7 = pd.DataFrame(dhack)\n",
    "df7.index +=1\n",
    "print(df7.head(4))\n",
    "\n"
   ]
  },
  {
   "cell_type": "markdown",
   "metadata": {},
   "source": [
    "#### Count number of tweets by a given Twitter account."
   ]
  },
  {
   "cell_type": "markdown",
   "metadata": {},
   "source": [
    "You will need to include a ***try/except block*** for account names not found. \n",
    "<br>***Hint:*** the program should count the number of tweets for any provided account"
   ]
  },
  {
   "cell_type": "code",
   "execution_count": 476,
   "metadata": {},
   "outputs": [],
   "source": [
    "# This is the url you will scrape in this exercise \n",
    "# You will need to add the account credentials to this url\n",
    "url = 'https://twitter.com/'"
   ]
  },
  {
   "cell_type": "code",
   "execution_count": null,
   "metadata": {},
   "outputs": [],
   "source": []
  },
  {
   "cell_type": "markdown",
   "metadata": {},
   "source": [
    "#### Number of followers of a given twitter account"
   ]
  },
  {
   "cell_type": "markdown",
   "metadata": {},
   "source": [
    "You will need to include a ***try/except block*** in case account/s name not found. \n",
    "<br>***Hint:*** the program should count the followers for any provided account"
   ]
  },
  {
   "cell_type": "code",
   "execution_count": null,
   "metadata": {},
   "outputs": [],
   "source": [
    "# This is the url you will scrape in this exercise \n",
    "# You will need to add the account credentials to this url\n",
    "url = 'https://twitter.com/'"
   ]
  },
  {
   "cell_type": "code",
   "execution_count": null,
   "metadata": {},
   "outputs": [],
   "source": [
    "#your code"
   ]
  },
  {
   "cell_type": "markdown",
   "metadata": {},
   "source": [
    "#### List all language names and number of related articles in the order they appear in wikipedia.org"
   ]
  },
  {
   "cell_type": "code",
   "execution_count": null,
   "metadata": {},
   "outputs": [],
   "source": [
    "# This is the url you will scrape in this exercise\n",
    "url = 'https://www.wikipedia.org/'"
   ]
  },
  {
   "cell_type": "code",
   "execution_count": null,
   "metadata": {},
   "outputs": [],
   "source": [
    "#your code"
   ]
  },
  {
   "cell_type": "markdown",
   "metadata": {},
   "source": [
    "#### A list with the different kind of datasets available in data.gov.uk "
   ]
  },
  {
   "cell_type": "code",
   "execution_count": null,
   "metadata": {},
   "outputs": [],
   "source": [
    "# This is the url you will scrape in this exercise\n",
    "url = 'https://data.gov.uk/'"
   ]
  },
  {
   "cell_type": "code",
   "execution_count": null,
   "metadata": {},
   "outputs": [],
   "source": [
    "#your code "
   ]
  },
  {
   "cell_type": "markdown",
   "metadata": {},
   "source": [
    "#### Top 10 languages by number of native speakers stored in a Pandas Dataframe"
   ]
  },
  {
   "cell_type": "code",
   "execution_count": null,
   "metadata": {},
   "outputs": [],
   "source": [
    "# This is the url you will scrape in this exercise\n",
    "url = 'https://en.wikipedia.org/wiki/List_of_languages_by_number_of_native_speakers'"
   ]
  },
  {
   "cell_type": "code",
   "execution_count": null,
   "metadata": {},
   "outputs": [],
   "source": [
    "#your code"
   ]
  },
  {
   "cell_type": "markdown",
   "metadata": {},
   "source": [
    "### BONUS QUESTIONS"
   ]
  },
  {
   "cell_type": "markdown",
   "metadata": {},
   "source": [
    "#### Scrape a certain number of tweets of a given Twitter account."
   ]
  },
  {
   "cell_type": "code",
   "execution_count": null,
   "metadata": {},
   "outputs": [],
   "source": [
    "# This is the url you will scrape in this exercise \n",
    "# You will need to add the account credentials to this url\n",
    "url = 'https://twitter.com/'"
   ]
  },
  {
   "cell_type": "code",
   "execution_count": null,
   "metadata": {},
   "outputs": [],
   "source": [
    "# your code"
   ]
  },
  {
   "cell_type": "markdown",
   "metadata": {},
   "source": [
    "#### IMDB's Top 250 data (movie name, Initial release, director name and stars) as a pandas dataframe"
   ]
  },
  {
   "cell_type": "code",
   "execution_count": null,
   "metadata": {},
   "outputs": [],
   "source": [
    "# This is the url you will scrape in this exercise \n",
    "url = 'https://www.imdb.com/chart/top'"
   ]
  },
  {
   "cell_type": "code",
   "execution_count": null,
   "metadata": {},
   "outputs": [],
   "source": [
    "# your code"
   ]
  },
  {
   "cell_type": "markdown",
   "metadata": {},
   "source": [
    "#### Movie name, year and a brief summary of the top 10 random movies (IMDB) as a pandas dataframe."
   ]
  },
  {
   "cell_type": "code",
   "execution_count": null,
   "metadata": {},
   "outputs": [],
   "source": [
    "#This is the url you will scrape in this exercise\n",
    "url = 'http://www.imdb.com/chart/top'"
   ]
  },
  {
   "cell_type": "code",
   "execution_count": null,
   "metadata": {},
   "outputs": [],
   "source": [
    "#your code"
   ]
  },
  {
   "cell_type": "markdown",
   "metadata": {},
   "source": [
    "#### Find the live weather report (temperature, wind speed, description and weather) of a given city."
   ]
  },
  {
   "cell_type": "code",
   "execution_count": null,
   "metadata": {},
   "outputs": [],
   "source": [
    "#https://openweathermap.org/current\n",
    "city = city=input('Enter the city:')\n",
    "url = 'http://api.openweathermap.org/data/2.5/weather?'+'q='+city+'&APPID=b35975e18dc93725acb092f7272cc6b8&units=metric'"
   ]
  },
  {
   "cell_type": "code",
   "execution_count": null,
   "metadata": {},
   "outputs": [],
   "source": [
    "# your code"
   ]
  },
  {
   "cell_type": "markdown",
   "metadata": {},
   "source": [
    "#### Book name,price and stock availability as a pandas dataframe."
   ]
  },
  {
   "cell_type": "code",
   "execution_count": null,
   "metadata": {},
   "outputs": [],
   "source": [
    "# This is the url you will scrape in this exercise. \n",
    "# It is a fictional bookstore created to be scraped. \n",
    "url = 'http://books.toscrape.com/'"
   ]
  },
  {
   "cell_type": "code",
   "execution_count": null,
   "metadata": {},
   "outputs": [],
   "source": [
    "#your code"
   ]
  }
 ],
 "metadata": {
  "kernelspec": {
   "display_name": "Python 3",
   "language": "python",
   "name": "python3"
  },
  "language_info": {
   "codemirror_mode": {
    "name": "ipython",
    "version": 3
   },
   "file_extension": ".py",
   "mimetype": "text/x-python",
   "name": "python",
   "nbconvert_exporter": "python",
   "pygments_lexer": "ipython3",
   "version": "3.7.6"
  }
 },
 "nbformat": 4,
 "nbformat_minor": 4
}
